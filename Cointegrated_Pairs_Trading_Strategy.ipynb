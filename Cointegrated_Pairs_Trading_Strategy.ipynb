{
  "nbformat": 4,
  "nbformat_minor": 0,
  "metadata": {
    "colab": {
      "provenance": [],
      "authorship_tag": "ABX9TyM/RGT9zQituqDEquweOwcM",
      "include_colab_link": true
    },
    "kernelspec": {
      "name": "python3",
      "display_name": "Python 3"
    },
    "language_info": {
      "name": "python"
    }
  },
  "cells": [
    {
      "cell_type": "markdown",
      "metadata": {
        "id": "view-in-github",
        "colab_type": "text"
      },
      "source": [
        "<a href=\"https://colab.research.google.com/github/SidS12345/Quant-projects/blob/main/Cointegrated_Pairs_Trading_Strategy.ipynb\" target=\"_parent\"><img src=\"https://colab.research.google.com/assets/colab-badge.svg\" alt=\"Open In Colab\"/></a>"
      ]
    },
    {
      "cell_type": "markdown",
      "source": [
        "This project implements a statistical arbitrage strategy using cointegrated pairs of equities. By identifying pairs with long-run equilibrium relationships, we construct mean-reverting spreads and generate trading signals based on z-score thresholds. The strategy will be backtested on historical data, evaluating profitability, risk-adjusted returns, and robustness against market fluctuations and transaction costs."
      ],
      "metadata": {
        "id": "uT7wyHRPRovp"
      }
    },
    {
      "cell_type": "code",
      "source": [
        "import numpy as np\n",
        "import pandas as pd\n",
        "import yfinance as yf\n",
        "import statsmodels.api as sm\n",
        "from datetime import datetime, timedelta\n",
        "from statsmodels.tsa.stattools import coint"
      ],
      "metadata": {
        "id": "vZ-774G9S-53"
      },
      "execution_count": null,
      "outputs": []
    },
    {
      "cell_type": "code",
      "source": [
        "# Function to display everything in 2dp\n",
        "\n",
        "def format_floats(obj, decimals=2):\n",
        "    if isinstance(obj, dict):\n",
        "        return {k: format_floats(v, decimals) for k, v in obj.items()}\n",
        "    elif isinstance(obj, list):\n",
        "        return [format_floats(item, decimals) for item in obj]\n",
        "    elif isinstance(obj, (float, np.floating)):\n",
        "        return f\"{obj:.{decimals}f}\"\n",
        "    else:\n",
        "        return obj"
      ],
      "metadata": {
        "id": "qw_9S3lMZiO8"
      },
      "execution_count": null,
      "outputs": []
    },
    {
      "cell_type": "markdown",
      "source": [
        "We are going to analyse stocks from the same sector. This gives us a higher chance of identifying closely cointegrated pairs of equities, as we'd expect roughly the same general price trend from stocks in the same sector"
      ],
      "metadata": {
        "id": "Nh-alVhJTegE"
      }
    },
    {
      "cell_type": "code",
      "source": [
        "tech_tickers = [\n",
        "    \"AAPL\",  # Apple\n",
        "    \"MSFT\",  # Microsoft\n",
        "    \"GOOGL\", # Alphabet\n",
        "    \"AMZN\",  # Amazon\n",
        "    \"META\",  # Meta Platforms\n",
        "    \"NVDA\",  # Nvidia\n",
        "    \"AMD\",   # Advanced Micro Devices\n",
        "    \"INTC\",  # Intel\n",
        "    \"QCOM\",  # Qualcomm\n",
        "    \"CSCO\",  # Cisco Systems\n",
        "    \"ORCL\",  # Oracle\n",
        "    \"CRM\",   # Salesforce\n",
        "    \"ADBE\",  # Adobe\n",
        "    \"IBM\",   # IBM\n",
        "    \"AVGO\",  # Broadcom\n",
        "    \"TXN\",   # Texas Instruments\n",
        "    \"MU\",    # Micron Technology\n",
        "    \"PYPL\",  # PayPal\n",
        "    \"SHOP\",  # Shopify\n",
        "    \"SNOW\",  # Snowflake\n",
        "    \"PLTR\",  # Palantir\n",
        "    \"ZM\",    # Zoom Video\n",
        "    \"TWLO\",  # Twilio\n",
        "    \"ROKU\",  # Roku\n",
        "    \"UBER\",  # Uber Technologies\n",
        "    \"SQ\",    # Block (Square)\n",
        "    \"DDOG\",  # Datadog\n",
        "    \"TEAM\",  # Atlassian\n",
        "    \"NET\",   # Cloudflare\n",
        "    \"NOW\"    # ServiceNow\n",
        "]\n",
        "\n",
        "\n",
        "# tech_tickers = ['AAPL','MSFT',\"GOOGL\"]    -   Taking a smaller tech_tickers to read data easily and ensure program is working\n",
        "\n",
        "\n",
        "# choosing start and end date, taking today's date to be the end date and giving us 1500 days of stock data\n",
        "end_date = datetime.today()\n",
        "start_date = end_date - timedelta(days = 1500)"
      ],
      "metadata": {
        "id": "Ityj2CwXTRau"
      },
      "execution_count": null,
      "outputs": []
    },
    {
      "cell_type": "code",
      "source": [
        "closing_prices = pd.DataFrame()\n",
        "for ticker in tech_tickers:\n",
        "  data = yf.download(ticker, start = start_date, end = end_date)\n",
        "  closing_prices[ticker] = data[\"Close\"]\n",
        "\n",
        "# Now cleaning the data so that we can operate on it successfully\n",
        "\n",
        "closing_prices = closing_prices.dropna(how='any')\n",
        "closing_prices = closing_prices.drop_duplicates()"
      ],
      "metadata": {
        "colab": {
          "base_uri": "https://localhost:8080/"
        },
        "id": "Y_rxuUNfV4HI",
        "outputId": "dba48ab3-125d-4e17-a765-45426a50f833"
      },
      "execution_count": null,
      "outputs": [
        {
          "output_type": "stream",
          "name": "stderr",
          "text": [
            "/tmp/ipython-input-9-283359432.py:3: FutureWarning: YF.download() has changed argument auto_adjust default to True\n",
            "  data = yf.download(ticker, start = start_date, end = end_date)\n",
            "[*********************100%***********************]  1 of 1 completed\n",
            "/tmp/ipython-input-9-283359432.py:3: FutureWarning: YF.download() has changed argument auto_adjust default to True\n",
            "  data = yf.download(ticker, start = start_date, end = end_date)\n",
            "[*********************100%***********************]  1 of 1 completed\n",
            "/tmp/ipython-input-9-283359432.py:3: FutureWarning: YF.download() has changed argument auto_adjust default to True\n",
            "  data = yf.download(ticker, start = start_date, end = end_date)\n",
            "[*********************100%***********************]  1 of 1 completed\n"
          ]
        }
      ]
    },
    {
      "cell_type": "code",
      "source": [
        "cointegration_matrix = []\n",
        "cointegrated_pairs = []\n",
        "coint_coeff = 0.5\n",
        "for i in range(0,len(tech_tickers)):\n",
        "  lst_cointegrations = []\n",
        "  for j in range(0, len(tech_tickers)):\n",
        "    if i == j:\n",
        "      p_value = 0\n",
        "    else:\n",
        "      score, p_value, crit_values = coint(closing_prices[tech_tickers[i]], closing_prices[tech_tickers[j]])\n",
        "      if p_value <= coint_coeff:\n",
        "        cointegrated_pairs.append((i,j))\n",
        "    lst_cointegrations.append(p_value)\n",
        "\n",
        "  cointegration_matrix.append(lst_cointegrations)"
      ],
      "metadata": {
        "id": "Y1z6IyaKbmZs"
      },
      "execution_count": null,
      "outputs": []
    },
    {
      "cell_type": "code",
      "source": [],
      "metadata": {
        "id": "Y_FLZxyfdZn6"
      },
      "execution_count": null,
      "outputs": []
    }
  ]
}